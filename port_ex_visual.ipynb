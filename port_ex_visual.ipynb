{
 "cells": [
  {
   "cell_type": "code",
   "execution_count": 63,
   "metadata": {
    "collapsed": false
   },
   "outputs": [],
   "source": [
    "%matplotlib inline\n",
    "\n",
    "import os\n",
    "\n",
    "import pandas as pd\n",
    "\n",
    "import opt_helpers as oh\n",
    "\n",
    "\n",
    "containers_sent = pd.read_csv( \"data/containers_sent.csv\",\n",
    "                                   index_col=\"Port\")\n",
    "scanning_ports = list(pd.read_csv(\"data/scanning_ports.csv\",\n",
    "                                  index_col=\"Port\").index)\n",
    "distances = pd.read_csv(\"data/port_costs.csv\", index_col=\"Port\")\n",
    "\n",
    "scanner_cost = 1500"
   ]
  },
  {
   "cell_type": "code",
   "execution_count": 64,
   "metadata": {
    "collapsed": false
   },
   "outputs": [
    {
     "data": {
      "text/html": [
       "<div>\n",
       "<table border=\"1\" class=\"dataframe\">\n",
       "  <thead>\n",
       "    <tr style=\"text-align: right;\">\n",
       "      <th></th>\n",
       "      <th>A</th>\n",
       "      <th>B</th>\n",
       "      <th>Scanner_cost</th>\n",
       "      <th>Total</th>\n",
       "    </tr>\n",
       "  </thead>\n",
       "  <tbody>\n",
       "    <tr>\n",
       "      <th>O1</th>\n",
       "      <td>10910</td>\n",
       "      <td>10594</td>\n",
       "      <td>0</td>\n",
       "      <td>21504</td>\n",
       "    </tr>\n",
       "    <tr>\n",
       "      <th>O2</th>\n",
       "      <td>11433</td>\n",
       "      <td>11117</td>\n",
       "      <td>0</td>\n",
       "      <td>22550</td>\n",
       "    </tr>\n",
       "    <tr>\n",
       "      <th>O3</th>\n",
       "      <td>12624</td>\n",
       "      <td>12308</td>\n",
       "      <td>0</td>\n",
       "      <td>24932</td>\n",
       "    </tr>\n",
       "    <tr>\n",
       "      <th>O4</th>\n",
       "      <td>2256</td>\n",
       "      <td>1940</td>\n",
       "      <td>150000</td>\n",
       "      <td>154196</td>\n",
       "    </tr>\n",
       "    <tr>\n",
       "      <th>O5</th>\n",
       "      <td>5234</td>\n",
       "      <td>4918</td>\n",
       "      <td>0</td>\n",
       "      <td>10152</td>\n",
       "    </tr>\n",
       "    <tr>\n",
       "      <th>O6</th>\n",
       "      <td>7732</td>\n",
       "      <td>7416</td>\n",
       "      <td>0</td>\n",
       "      <td>15148</td>\n",
       "    </tr>\n",
       "    <tr>\n",
       "      <th>O7</th>\n",
       "      <td>7867</td>\n",
       "      <td>7551</td>\n",
       "      <td>0</td>\n",
       "      <td>15418</td>\n",
       "    </tr>\n",
       "    <tr>\n",
       "      <th>O8</th>\n",
       "      <td>11971</td>\n",
       "      <td>11655</td>\n",
       "      <td>0</td>\n",
       "      <td>23626</td>\n",
       "    </tr>\n",
       "  </tbody>\n",
       "</table>\n",
       "</div>"
      ],
      "text/plain": [
       "        A      B  Scanner_cost   Total\n",
       "O1  10910  10594             0   21504\n",
       "O2  11433  11117             0   22550\n",
       "O3  12624  12308             0   24932\n",
       "O4   2256   1940        150000  154196\n",
       "O5   5234   4918             0   10152\n",
       "O6   7732   7416             0   15148\n",
       "O7   7867   7551             0   15418\n",
       "O8  11971  11655             0   23626"
      ]
     },
     "execution_count": 64,
     "metadata": {},
     "output_type": "execute_result"
    }
   ],
   "source": [
    "result = oh.exhaustive_optimization(distances, containers_sent, scanning_ports,\n",
    "                                 scanner_cost)\n",
    "costs = result[2]\n",
    "costs"
   ]
  },
  {
   "cell_type": "code",
   "execution_count": 67,
   "metadata": {
    "collapsed": false
   },
   "outputs": [
    {
     "data": {
      "image/png": "[encoded data removed]",
      "text/plain": [
       "<matplotlib.figure.Figure at 0xb25bc50>"
      ]
     },
     "metadata": {},
     "output_type": "display_data"
    }
   ],
   "source": [
    "oh.plot_frontier(result[3], highlight=('O3', 'O4', 'O7'))"
   ]
  },
  {
   "cell_type": "code",
   "execution_count": null,
   "metadata": {
    "collapsed": true
   },
   "outputs": [],
   "source": []
  }
 ],
 "metadata": {
  "anaconda-cloud": {},
  "kernelspec": {
   "display_name": "Python [default]",
   "language": "python",
   "name": "python2"
  },
  "language_info": {
   "codemirror_mode": {
    "name": "ipython",
    "version": 2
   },
   "file_extension": ".py",
   "mimetype": "text/x-python",
   "name": "python",
   "nbconvert_exporter": "python",
   "pygments_lexer": "ipython2",
   "version": "2.7.12"
  }
 },
 "nbformat": 4,
 "nbformat_minor": 0
}

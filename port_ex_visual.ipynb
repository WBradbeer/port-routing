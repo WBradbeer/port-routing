{
 "cells": [
  {
   "cell_type": "code",
   "execution_count": 32,
   "metadata": {
    "collapsed": false
   },
   "outputs": [],
   "source": [
    "%matplotlib inline\n",
    "\n",
    "import os\n",
    "\n",
    "import pandas as pd\n",
    "\n",
    "import opt_helpers as oh\n",
    "\n",
    "\n",
    "containers_sent = pd.read_csv( \"data/containers_sent.csv\",\n",
    "                                   index_col=\"Port\")\n",
    "scanning_ports = list(pd.read_csv(\"data/scanning_ports.csv\",\n",
    "                                  index_col=\"Port\").index)\n",
    "distances = pd.read_csv(\"data/port_costs.csv\", index_col=\"Port\")\n",
    "\n",
    "scanner_cost = 1500"
   ]
  },
  {
   "cell_type": "code",
   "execution_count": 33,
   "metadata": {
    "collapsed": false
   },
   "outputs": [
    {
     "data": {
      "text/html": [
       "<div>\n",
       "<table border=\"1\" class=\"dataframe\">\n",
       "  <thead>\n",
       "    <tr style=\"text-align: right;\">\n",
       "      <th></th>\n",
       "      <th>A</th>\n",
       "      <th>B</th>\n",
       "      <th>Scanner_cost</th>\n",
       "      <th>Total</th>\n",
       "    </tr>\n",
       "  </thead>\n",
       "  <tbody>\n",
       "    <tr>\n",
       "      <th>O1</th>\n",
       "      <td>6505</td>\n",
       "      <td>7362</td>\n",
       "      <td>1500</td>\n",
       "      <td>15367</td>\n",
       "    </tr>\n",
       "    <tr>\n",
       "      <th>O2</th>\n",
       "      <td>7105</td>\n",
       "      <td>7962</td>\n",
       "      <td>0</td>\n",
       "      <td>15067</td>\n",
       "    </tr>\n",
       "    <tr>\n",
       "      <th>O3</th>\n",
       "      <td>8220</td>\n",
       "      <td>9077</td>\n",
       "      <td>0</td>\n",
       "      <td>17297</td>\n",
       "    </tr>\n",
       "    <tr>\n",
       "      <th>O4</th>\n",
       "      <td>2256</td>\n",
       "      <td>1940</td>\n",
       "      <td>1500</td>\n",
       "      <td>5696</td>\n",
       "    </tr>\n",
       "    <tr>\n",
       "      <th>O5</th>\n",
       "      <td>5234</td>\n",
       "      <td>4918</td>\n",
       "      <td>0</td>\n",
       "      <td>10152</td>\n",
       "    </tr>\n",
       "    <tr>\n",
       "      <th>O6</th>\n",
       "      <td>5619</td>\n",
       "      <td>3630</td>\n",
       "      <td>1500</td>\n",
       "      <td>10749</td>\n",
       "    </tr>\n",
       "    <tr>\n",
       "      <th>O7</th>\n",
       "      <td>5858</td>\n",
       "      <td>3869</td>\n",
       "      <td>0</td>\n",
       "      <td>9727</td>\n",
       "    </tr>\n",
       "    <tr>\n",
       "      <th>O8</th>\n",
       "      <td>9638</td>\n",
       "      <td>7917</td>\n",
       "      <td>0</td>\n",
       "      <td>17555</td>\n",
       "    </tr>\n",
       "  </tbody>\n",
       "</table>\n",
       "</div>"
      ],
      "text/plain": [
       "       A     B  Scanner_cost  Total\n",
       "O1  6505  7362          1500  15367\n",
       "O2  7105  7962             0  15067\n",
       "O3  8220  9077             0  17297\n",
       "O4  2256  1940          1500   5696\n",
       "O5  5234  4918             0  10152\n",
       "O6  5619  3630          1500  10749\n",
       "O7  5858  3869             0   9727\n",
       "O8  9638  7917             0  17555"
      ]
     },
     "execution_count": 33,
     "metadata": {},
     "output_type": "execute_result"
    }
   ],
   "source": [
    "result = oh.exhaustive_optimization(distances, containers_sent, scanning_ports,\n",
    "                                 scanner_cost)\n",
    "costs = result[2]\n",
    "costs"
   ]
  },
  {
   "cell_type": "code",
   "execution_count": 35,
   "metadata": {
    "collapsed": false
   },
   "outputs": [
    {
     "data": {
      "image/png": "[encoded data removed]",
      "text/plain": [
       "<matplotlib.figure.Figure at 0x9ab8ac8>"
      ]
     },
     "metadata": {},
     "output_type": "display_data"
    }
   ],
   "source": [
    "oh.plot_frontier(result[3], highlight=('O4', ))"
   ]
  },
  {
   "cell_type": "code",
   "execution_count": null,
   "metadata": {
    "collapsed": true
   },
   "outputs": [],
   "source": []
  }
 ],
 "metadata": {
  "anaconda-cloud": {},
  "kernelspec": {
   "display_name": "Python [default]",
   "language": "python",
   "name": "python2"
  },
  "language_info": {
   "codemirror_mode": {
    "name": "ipython",
    "version": 2
   },
   "file_extension": ".py",
   "mimetype": "text/x-python",
   "name": "python",
   "nbconvert_exporter": "python",
   "pygments_lexer": "ipython2",
   "version": "2.7.12"
  }
 },
 "nbformat": 4,
 "nbformat_minor": 0
}

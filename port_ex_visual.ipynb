{
 "metadata": {
  "name": "",
  "signature": "sha256:84ffba4db919410e20b021b6c22ef2c4836356986f5e861b114355ae17a5b178"
 },
 "nbformat": 3,
 "nbformat_minor": 0,
 "worksheets": [
  {
   "cells": [
    {
     "cell_type": "code",
     "collapsed": false,
     "input": [
      "import os\n",
      "\n",
      "import pandas as pd\n",
      "\n",
      "import opt_helpers as oh\n",
      "\n",
      "\n",
      "containers_sent = pd.read_csv( \"data/containers_sent.csv\",\n",
      "                                   index_col=\"Port\")\n",
      "scanning_ports = list(pd.read_csv(\"data/scanning_ports.csv\",\n",
      "                                  index_col=\"Port\").index)\n",
      "distances = pd.read_csv(\"data/port_costs.csv\", index_col=\"Port\")\n",
      "\n",
      "scanner_cost = 100\n"
     ],
     "language": "python",
     "metadata": {},
     "outputs": [],
     "prompt_number": 9
    },
    {
     "cell_type": "code",
     "collapsed": false,
     "input": [
      "costs = oh.exhaustive_optimization(distances, containers_sent, scanning_ports,\n",
      "                                 scanner_cost)[2]"
     ],
     "language": "python",
     "metadata": {},
     "outputs": [],
     "prompt_number": 26
    },
    {
     "cell_type": "code",
     "collapsed": false,
     "input": [
      "costs"
     ],
     "language": "python",
     "metadata": {},
     "outputs": [
      {
       "html": [
        "<div style=\"max-width:1500px;overflow:auto;\">\n",
        "<table border=\"1\" class=\"dataframe\">\n",
        "  <thead>\n",
        "    <tr style=\"text-align: right;\">\n",
        "      <th></th>\n",
        "      <th>D1</th>\n",
        "      <th>D2</th>\n",
        "      <th>Scanner_cost</th>\n",
        "      <th>Total</th>\n",
        "    </tr>\n",
        "  </thead>\n",
        "  <tbody>\n",
        "    <tr>\n",
        "      <th>O1</th>\n",
        "      <td>110</td>\n",
        "      <td>100</td>\n",
        "      <td>0</td>\n",
        "      <td>210</td>\n",
        "    </tr>\n",
        "    <tr>\n",
        "      <th>O2</th>\n",
        "      <td>60</td>\n",
        "      <td>50</td>\n",
        "      <td>100</td>\n",
        "      <td>210</td>\n",
        "    </tr>\n",
        "    <tr>\n",
        "      <th>O3</th>\n",
        "      <td>90</td>\n",
        "      <td>80</td>\n",
        "      <td>100</td>\n",
        "      <td>270</td>\n",
        "    </tr>\n",
        "  </tbody>\n",
        "</table>\n",
        "</div>"
       ],
       "metadata": {},
       "output_type": "pyout",
       "prompt_number": 27,
       "text": [
        "     D1   D2  Scanner_cost  Total\n",
        "O1  110  100             0    210\n",
        "O2   60   50           100    210\n",
        "O3   90   80           100    270"
       ]
      }
     ],
     "prompt_number": 27
    },
    {
     "cell_type": "code",
     "collapsed": false,
     "input": [
      "print costs['Total'].sum()"
     ],
     "language": "python",
     "metadata": {},
     "outputs": [
      {
       "output_type": "stream",
       "stream": "stdout",
       "text": [
        "690\n"
       ]
      }
     ],
     "prompt_number": 29
    },
    {
     "cell_type": "code",
     "collapsed": false,
     "input": [],
     "language": "python",
     "metadata": {},
     "outputs": []
    }
   ],
   "metadata": {}
  }
 ]
}